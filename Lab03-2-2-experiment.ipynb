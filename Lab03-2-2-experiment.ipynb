{
 "cells": [
  {
   "cell_type": "markdown",
   "metadata": {},
   "source": [
    "- For different values of the convergence criteria [ 0.01, 0.001, 0.0001, 0.00001] generate 10 estimates of Pi.\n",
    "- For the four different convergence criteria have your script print the following statistics\n",
    "   - average number of draws required from the 10 runs\n",
    "   - standard deviation of the number of draws required from the 10 runs."
   ]
  },
  {
   "cell_type": "code",
   "execution_count": 1,
   "metadata": {
    "collapsed": false,
    "editable": true,
    "jupyter": {
     "outputs_hidden": false
    }
   },
   "outputs": [],
   "source": [
    "import random\n",
    "import math\n",
    "import matplotlib.pyplot as plt"
   ]
  },
  {
   "cell_type": "code",
   "execution_count": 2,
   "metadata": {
    "collapsed": false,
    "editable": true,
    "jupyter": {
     "outputs_hidden": false
    }
   },
   "outputs": [],
   "source": [
    "pi = math.pi # our benchmark that we want to estimate using simulation"
   ]
  },
  {
   "cell_type": "code",
   "execution_count": 3,
   "metadata": {
    "collapsed": false,
    "editable": true,
    "jupyter": {
     "outputs_hidden": false
    }
   },
   "outputs": [
    {
     "data": {
      "text/plain": [
       "3.141592653589793"
      ]
     },
     "execution_count": 3,
     "metadata": {},
     "output_type": "execute_result"
    }
   ],
   "source": [
    "pi"
   ]
  },
  {
   "cell_type": "code",
   "execution_count": 75,
   "metadata": {},
   "outputs": [],
   "source": [
    "def Pi(percentage):\n",
    "    n = 0 # number of points falling in the unit circle\n",
    "    d = 0 # number of points falling in the unit square\n",
    "    t = 0\n",
    "    ave_d = 0\n",
    "    sd_d = 0\n",
    "    while t < 10:\n",
    "        simulating = True # use as a sentinel\n",
    "        while simulating:\n",
    "            x = random.random()\n",
    "            y = random.random()\n",
    "            if x**2 + y**2 <= 1.0:\n",
    "                n += 1\n",
    "            d += 1\n",
    "            ratio = 4 * n * 1./d\n",
    "            if abs(ratio-pi) / pi <= percentage:\n",
    "                print (\"Draws needed: \", d)\n",
    "                print(ratio)\n",
    "                ave_d = ave_d + (d - ave_d) / (t + 1) # recurrence formula\n",
    "                sd_d = t * (d - ave_d) * (d - ave_d)/ (t + 1) / (t + 1) + t/ (t + 1) * sd_d\n",
    "                break\n",
    "        t += 1\n",
    "    print(\"average number of draws required from the 10 runs:\", ave_d)\n",
    "    print(\"standard deviation of the number of draws required from the 10 runs\", pow(sd_d,0.5))"
   ]
  },
  {
   "cell_type": "code",
   "execution_count": 76,
   "metadata": {},
   "outputs": [
    {
     "name": "stdout",
     "output_type": "stream",
     "text": [
      "Draws needed:  14\n",
      "3.142857142857143\n",
      "Draws needed:  18\n",
      "3.111111111111111\n",
      "Draws needed:  19\n",
      "3.1578947368421053\n",
      "Draws needed:  27\n",
      "3.111111111111111\n",
      "Draws needed:  28\n",
      "3.142857142857143\n",
      "Draws needed:  29\n",
      "3.1724137931034484\n",
      "Draws needed:  32\n",
      "3.125\n",
      "Draws needed:  33\n",
      "3.1515151515151514\n",
      "Draws needed:  36\n",
      "3.111111111111111\n",
      "Draws needed:  37\n",
      "3.135135135135135\n",
      "average number of draws required from the 10 runs: 27.3\n",
      "standard deviation of the number of draws required from the 10 runs 6.336809028166465\n",
      "None\n"
     ]
    }
   ],
   "source": [
    "print(Pi(0.01))"
   ]
  },
  {
   "cell_type": "code",
   "execution_count": 77,
   "metadata": {},
   "outputs": [
    {
     "name": "stdout",
     "output_type": "stream",
     "text": [
      "Draws needed:  14\n",
      "3.142857142857143\n",
      "Draws needed:  28\n",
      "3.142857142857143\n",
      "Draws needed:  112\n",
      "3.142857142857143\n",
      "Draws needed:  130\n",
      "3.1384615384615384\n",
      "Draws needed:  135\n",
      "3.140740740740741\n",
      "Draws needed:  140\n",
      "3.142857142857143\n",
      "Draws needed:  154\n",
      "3.142857142857143\n",
      "Draws needed:  158\n",
      "3.1392405063291138\n",
      "Draws needed:  163\n",
      "3.1411042944785277\n",
      "Draws needed:  302\n",
      "3.1390728476821192\n",
      "average number of draws required from the 10 runs: 133.6\n",
      "standard deviation of the number of draws required from the 10 runs 64.05942780352643\n",
      "None\n"
     ]
    }
   ],
   "source": [
    "print(Pi(0.001))"
   ]
  },
  {
   "cell_type": "code",
   "execution_count": 78,
   "metadata": {},
   "outputs": [
    {
     "name": "stdout",
     "output_type": "stream",
     "text": [
      "Draws needed:  8174\n",
      "3.1416687056520676\n",
      "Draws needed:  8175\n",
      "3.1417737003058104\n",
      "Draws needed:  8176\n",
      "3.141389432485323\n",
      "Draws needed:  8177\n",
      "3.1414944356120826\n",
      "Draws needed:  8178\n",
      "3.141599413059428\n",
      "Draws needed:  8203\n",
      "3.1412897720346216\n",
      "Draws needed:  8204\n",
      "3.1413944417357387\n",
      "Draws needed:  8208\n",
      "3.141325536062378\n",
      "Draws needed:  8209\n",
      "3.1414301376537948\n",
      "Draws needed:  8210\n",
      "3.141534713763703\n",
      "average number of draws required from the 10 runs: 8191.4\n",
      "standard deviation of the number of draws required from the 10 runs 13.494353087234932\n",
      "None\n"
     ]
    }
   ],
   "source": [
    "print(Pi(0.0001))"
   ]
  },
  {
   "cell_type": "code",
   "execution_count": 79,
   "metadata": {},
   "outputs": [
    {
     "name": "stdout",
     "output_type": "stream",
     "text": [
      "Draws needed:  904\n",
      "3.1415929203539825\n",
      "Draws needed:  3234\n",
      "3.1416202844774275\n",
      "Draws needed:  3327\n",
      "3.1415689810640215\n",
      "Draws needed:  3355\n",
      "3.1415797317436662\n",
      "Draws needed:  6244\n",
      "3.141575912876361\n",
      "Draws needed:  6249\n",
      "3.14162265962554\n",
      "Draws needed:  6328\n",
      "3.1415929203539825\n",
      "Draws needed:  6356\n",
      "3.141598489616111\n",
      "Draws needed:  6864\n",
      "3.1416083916083917\n",
      "Draws needed:  7344\n",
      "3.1416122004357296\n",
      "average number of draws required from the 10 runs: 5020.5\n",
      "standard deviation of the number of draws required from the 10 runs 1675.9870738519362\n",
      "None\n"
     ]
    }
   ],
   "source": [
    "print(Pi(0.00001))"
   ]
  }
 ],
 "metadata": {
  "kernelspec": {
   "display_name": "Python 3",
   "language": "python",
   "name": "python3"
  },
  "language_info": {
   "codemirror_mode": {
    "name": "ipython",
    "version": 3
   },
   "file_extension": ".py",
   "mimetype": "text/x-python",
   "name": "python",
   "nbconvert_exporter": "python",
   "pygments_lexer": "ipython3",
   "version": "3.8.5"
  }
 },
 "nbformat": 4,
 "nbformat_minor": 4
}
